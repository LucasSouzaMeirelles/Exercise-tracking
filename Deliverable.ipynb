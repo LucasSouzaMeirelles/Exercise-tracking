{
 "cells": [
  {
   "cell_type": "code",
   "execution_count": 1,
   "id": "cdba3150-6e59-4e9b-8263-2d2e1f8f18e5",
   "metadata": {},
   "outputs": [],
   "source": [
    "import pandas as pd\n",
    "import numpy as np\n",
    "from sklearn.ensemble import GradientBoostingRegressor \n",
    "from sklearn.svm import SVR\n",
    "import joblib"
   ]
  },
  {
   "cell_type": "code",
   "execution_count": 3,
   "id": "e2758129-9924-438a-bbf9-bb8c862327ea",
   "metadata": {},
   "outputs": [],
   "source": [
    "def predict_calories_burned(age, is_male, weight_kg, height_m, avg_bpm, session_duartion_h, fat_pct,\n",
    "                            water_intake_l, workout_frequency_dpw, experience_level):\n",
    "    \n",
    "    var_list = ['age', 'is_male', 'weight_kg', 'height_m', 'avg_bpm', 'session_duartion_h',\n",
    "                'fat_pct', 'water_intake_l', 'workout_frequency_dpw', 'experience_level']\n",
    "    \n",
    "    values_list = [age, is_male, weight_kg, height_m, avg_bpm, session_duartion_h,\n",
    "                   fat_pct, water_intake_l, workout_frequency_dpw, experience_level]\n",
    "\n",
    "    input_dict = {}\n",
    "\n",
    "    for var, value in zip(var_list, values_list):\n",
    "        input_dict[var] = [value]\n",
    "\n",
    "    input_df = pd.DataFrame(input_dict)\n",
    "    model = joblib.load('final_model.pkl')\n",
    "    calories_burned = model.predict(input_df)[0]\n",
    "    return(calories_burned)"
   ]
  },
  {
   "cell_type": "code",
   "execution_count": 6,
   "id": "fedc4157-125d-4d03-9690-97c722547885",
   "metadata": {},
   "outputs": [],
   "source": [
    "age = 46\n",
    "is_male = 0\n",
    "weight_kg = 74.9\n",
    "height_m = 1.53\n",
    "avg_bpm = 151\n",
    "session_duartion_h = 1.3\n",
    "fat_pct = 33.9\n",
    "water_intake_l = 2.1\n",
    "workout_frequency_dpw = 4\n",
    "experience_level = 2"
   ]
  },
  {
   "cell_type": "code",
   "execution_count": 7,
   "id": "670d1d62-a106-4e67-9a33-290f266f26f8",
   "metadata": {},
   "outputs": [
    {
     "data": {
      "text/plain": [
       "905.2566278491723"
      ]
     },
     "execution_count": 7,
     "metadata": {},
     "output_type": "execute_result"
    }
   ],
   "source": [
    "predict_calories_burned(age, is_male, weight_kg, height_m, avg_bpm, session_duartion_h, fat_pct,\n",
    "                            water_intake_l, workout_frequency_dpw, experience_level)"
   ]
  }
 ],
 "metadata": {
  "kernelspec": {
   "display_name": "Python 3 (ipykernel)",
   "language": "python",
   "name": "python3"
  },
  "language_info": {
   "codemirror_mode": {
    "name": "ipython",
    "version": 3
   },
   "file_extension": ".py",
   "mimetype": "text/x-python",
   "name": "python",
   "nbconvert_exporter": "python",
   "pygments_lexer": "ipython3",
   "version": "3.12.2"
  }
 },
 "nbformat": 4,
 "nbformat_minor": 5
}
